{
 "cells": [
  {
   "cell_type": "markdown",
   "metadata": {
    "collapsed": true
   },
   "source": [
    "# Running a model as an app\n",
    "\n",
    "You have trained a model, and want to deploy it, meaning to feed it input and get an output.\n",
    "But before, there are some steps you need to perform to load and prepare the data.\n",
    "The class Application enables you to cast your data loaders, preprocessor and model in one app.\n",
    "\n",
    "In this example, we implement a custom \"run\" method.\n",
    "\n",
    "In the example below, there are some assumptions:\n",
    "\n",
    "1- Global settings and configurations are pre-configured under configs/custom_config.py\n",
    "You could directly write them in the same code if you want\n",
    "\n",
    "2- All loaders, preprocessors, models,...etc are pre-defined and saved in the project folders as customs.\n",
    "You could define them here if you want and pass them to the Application constructor"
   ]
  },
  {
   "cell_type": "code",
   "execution_count": null,
   "metadata": {},
   "outputs": [],
   "source": [
    "# This file uses the same run() sequence in the base app\n",
    "\n",
    "from ..data.custom_loaders import MyDataLoader\n",
    "from ..data.custom_preprocessors import MyDataPreprocessor\n",
    "from ..models.custom_models import MyModel\n",
    "from flex.flex.runs import Application\n",
    "\n",
    "from ..configs.custom_config import config # Note that, we could directly put the params here, but it can also be kept under configs as it can be used with other runs\n",
    "\n",
    "class MyApp(Application):\n",
    "\n",
    "    def __init__(self,\n",
    "                 loader: BaseDataLoader,\n",
    "                 preprocessor: BaseDataPreprocessor,\n",
    "                 model: BaseModel,\n",
    "                 config: Configuration):\n",
    "        super().__init__(loader, preprocessor, model, config)\n",
    "\n",
    "    # Override your custom run here\n",
    "    def run(self):\n",
    "        # Load data\n",
    "        raw_data = self.loader.load_data()\n",
    "\n",
    "        # Pre-process data\n",
    "        data = self.preprocessor.preprocess_data(raw_data)\n",
    "\n",
    "        # Load model\n",
    "        self.model.load()\n",
    "\n",
    "        # Predict\n",
    "        result = self.model.predict(data)\n",
    "\n",
    "        return result\n",
    "\n",
    "# Load data\n",
    "loader = MyDataLoader(config=config)\n",
    "\n",
    "# Preprocess data\n",
    "preprocessor = MyDataPreprocessor(config=config)\n",
    "\n",
    "# Build model\n",
    "model = MyModel(config=config)\n",
    "\n",
    "# Run experiment\n",
    "app = MyApp(loader=loader,\n",
    "            preprocessor=preprocessor,\n",
    "            model=model,\n",
    "            config=config)\n",
    "\n",
    "results = app.run()"
   ]
  }
 ],
 "metadata": {
  "kernelspec": {
   "display_name": "Python 2",
   "language": "python",
   "name": "python2"
  },
  "language_info": {
   "codemirror_mode": {
    "name": "ipython",
    "version": 2
   },
   "file_extension": ".py",
   "mimetype": "text/x-python",
   "name": "python",
   "nbconvert_exporter": "python",
   "pygments_lexer": "ipython2",
   "version": "2.7.6"
  }
 },
 "nbformat": 4,
 "nbformat_minor": 0
}
