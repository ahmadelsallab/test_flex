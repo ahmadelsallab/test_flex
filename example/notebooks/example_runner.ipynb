{
 "cells": [
  {
   "cell_type": "code",
   "execution_count": null,
   "metadata": {
    "collapsed": true
   },
   "outputs": [],
   "source": [
    "# Running Standard ML experiment\n",
    "\n",
    "You have an awesome model that you want to train with a dataset, following some genius pre-processing pipeline.\n",
    "\n",
    "Moreover, as you are experimenting with different hyper-params, model choices, pre-processing choices,...etc, you want to keep track of all results and configurations you have made, and where they led, and also be able to reproduce the results of each experiment when needed.\n",
    "\n",
    "The class Runner provides the ability to run an experiment, and use the Configuration class to save and load the experiment info to be able to run later.\n",
    "\n",
    "The Runner class takes any custom loader, preprocessor, model,..etc. \n",
    "\n",
    "Through the standard run interface, standard training and evaluation steps are executed:\n",
    "1- Load data\n",
    "\n",
    "2- Preprocess data\n",
    "\n",
    "3- Build model\n",
    "\n",
    "4- Train model\n",
    "\n",
    "5- Evaluate model\n",
    "\n",
    "6- Save configuration"
   ]
  },
  {
   "cell_type": "code",
   "execution_count": null,
   "metadata": {},
   "outputs": [],
   "source": [
    "# This file uses the same run() sequence in the base runner\n",
    "\n",
    "from ..data.custom_loaders import MyDataLoader\n",
    "from ..data.custom_preprocessors import MyDataPreprocessor\n",
    "from ..learners.custom_learners import MyLearner\n",
    "from ..models.custom_models import MyModel\n",
    "from flex.flex.runs import Runner\n",
    "\n",
    "from ..configs.custom_config import config # Note that, we could directly put the params here, but it can also be kept under configs as it can be used with other runs\n",
    "\n",
    "# Load data\n",
    "loader = MyDataLoader(config=config)\n",
    "\n",
    "# Preprocess data\n",
    "preprocessor = MyDataPreprocessor(config=config)\n",
    "\n",
    "# Build model\n",
    "model = MyModel(config=config)\n",
    "\n",
    "\n",
    "# Train\n",
    "learner = MyLearner(config=config)\n",
    "\n",
    "\n",
    "# Run experiment\n",
    "experiment = Runner(loader=loader,\n",
    "                    preprocessor=preprocessor,\n",
    "                    model=model,\n",
    "                    learner=learner,\n",
    "                    config=config)\n",
    "experiment.run()"
   ]
  }
 ],
 "metadata": {
  "kernelspec": {
   "display_name": "Python 2",
   "language": "python",
   "name": "python2"
  },
  "language_info": {
   "codemirror_mode": {
    "name": "ipython",
    "version": 2
   },
   "file_extension": ".py",
   "mimetype": "text/x-python",
   "name": "python",
   "nbconvert_exporter": "python",
   "pygments_lexer": "ipython2",
   "version": "2.7.6"
  }
 },
 "nbformat": 4,
 "nbformat_minor": 0
}
